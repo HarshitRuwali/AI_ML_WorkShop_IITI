{
 "cells": [
  {
   "cell_type": "code",
   "execution_count": 1,
   "metadata": {},
   "outputs": [
    {
     "name": "stdout",
     "output_type": "stream",
     "text": [
      "hi\n"
     ]
    }
   ],
   "source": [
    "print(\"hi\")"
   ]
  },
  {
   "cell_type": "code",
   "execution_count": 2,
   "metadata": {},
   "outputs": [
    {
     "name": "stdout",
     "output_type": "stream",
     "text": [
      "2\n",
      "harshit ruwali\n",
      "3\n"
     ]
    }
   ],
   "source": [
    "def is_vowel(letter):\n",
    "    return letter in ['a', 'e', 'i', 'o', 'u', 'y']\n",
    "\n",
    "def score_words(words):\n",
    "\n",
    "    score = 0\n",
    "\n",
    "    for word in words:\n",
    "\n",
    "        num_vowels = 0\n",
    "\n",
    "        for letter in word:\n",
    "\n",
    "            if is_vowel(letter):\n",
    "\n",
    "                num_vowels += 1\n",
    "\n",
    "        if num_vowels % 2 == 0:\n",
    "\n",
    "            score=score+2\n",
    "        else:\n",
    "            score=score+1\n",
    "\n",
    "    return score\n",
    "\n",
    "n = int(input())\n",
    "words = input().split()\n",
    "print(score_words(words))"
   ]
  },
  {
   "cell_type": "code",
   "execution_count": 3,
   "metadata": {},
   "outputs": [
    {
     "ename": "SyntaxError",
     "evalue": "unexpected EOF while parsing (<ipython-input-3-1c9b701013ea>, line 27)",
     "output_type": "error",
     "traceback": [
      "\u001b[0;36m  File \u001b[0;32m\"<ipython-input-3-1c9b701013ea>\"\u001b[0;36m, line \u001b[0;32m27\u001b[0m\n\u001b[0;31m    \u001b[0m\n\u001b[0m    ^\u001b[0m\n\u001b[0;31mSyntaxError\u001b[0m\u001b[0;31m:\u001b[0m unexpected EOF while parsing\n"
     ]
    }
   ],
   "source": [
    "def minion_game(string):\n",
    "    # your code goes here\n",
    "    #s = input().strip()\n",
    "    s_length = len(s)\n",
    "    vowel_list = ['A','E','I','O','U']\n",
    "    stuart_point = 0\n",
    "    kevin_point = 0\n",
    "\n",
    "    for i in range(s_length):\n",
    "\n",
    "        if s[i] in vowel_list:\n",
    "            kevin_point += s_length - i\n",
    "        else:\n",
    "            stuart_point += s_length - i\n",
    "        \n",
    "    if stuart_point == kevin_point:\n",
    "        print('Draw')\n",
    "\n",
    "    elif kevin_point > stuart_point:\n",
    "        print('Kevin',kevin_point)\n",
    "\n",
    "    else:\n",
    "        print('Stuart',stuart_point)\n",
    "    #return minion_game\n",
    "    \n",
    "if __name__ == '__main__':\n",
    "    \n",
    "    "
   ]
  }
 ],
 "metadata": {
  "kernelspec": {
   "display_name": "Python 3",
   "language": "python",
   "name": "python3"
  },
  "language_info": {
   "codemirror_mode": {
    "name": "ipython",
    "version": 3
   },
   "file_extension": ".py",
   "mimetype": "text/x-python",
   "name": "python",
   "nbconvert_exporter": "python",
   "pygments_lexer": "ipython3",
   "version": "3.7.3"
  }
 },
 "nbformat": 4,
 "nbformat_minor": 2
}
