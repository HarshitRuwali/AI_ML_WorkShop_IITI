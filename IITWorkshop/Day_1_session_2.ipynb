{
 "cells": [
  {
   "cell_type": "code",
   "execution_count": 3,
   "metadata": {},
   "outputs": [],
   "source": [
    "#data location access \n",
    "#data=pd.read_csv('⁩/Users/harshitruwali/Desktop/Advertising.csv')\n",
    "import pandas as pd\n",
    "data = pd.read_csv('/Users/harshitruwali/Desktop/IITWorkshop/Advertising.csv', index_col=0)"
   ]
  },
  {
   "cell_type": "code",
   "execution_count": 5,
   "metadata": {},
   "outputs": [],
   "source": [
    "X=data[['TV']]\n",
    "Y=data[['sales']]"
   ]
  },
  {
   "cell_type": "code",
   "execution_count": 6,
   "metadata": {},
   "outputs": [],
   "source": [
    "#Training and testing\n",
    "from sklearn.model_selection import train_test_split\n",
    "xtrain,xtest, ytrain, ytest= train_test_split(X,Y,test_size=0.2)"
   ]
  },
  {
   "cell_type": "code",
   "execution_count": 9,
   "metadata": {},
   "outputs": [],
   "source": [
    "from sklearn.linear_model import LinearRegression"
   ]
  },
  {
   "cell_type": "code",
   "execution_count": 10,
   "metadata": {},
   "outputs": [],
   "source": [
    "lin=LinearRegression()"
   ]
  },
  {
   "cell_type": "code",
   "execution_count": 18,
   "metadata": {},
   "outputs": [
    {
     "data": {
      "text/plain": [
       "LinearRegression(copy_X=True, fit_intercept=True, n_jobs=None, normalize=False)"
      ]
     },
     "execution_count": 18,
     "metadata": {},
     "output_type": "execute_result"
    }
   ],
   "source": [
    "#to train the machine\n",
    "lin.fit(xtrain,ytrain)"
   ]
  },
  {
   "cell_type": "code",
   "execution_count": 12,
   "metadata": {},
   "outputs": [
    {
     "name": "stdout",
     "output_type": "stream",
     "text": [
      "[6.73941795]\n",
      "[[0.04983794]]\n"
     ]
    }
   ],
   "source": [
    "print(lin.intercept_)\n",
    "print(lin.coef_)"
   ]
  },
  {
   "cell_type": "code",
   "execution_count": 14,
   "metadata": {},
   "outputs": [
    {
     "data": {
      "text/plain": [
       "array([[7.33747321]])"
      ]
     },
     "execution_count": 14,
     "metadata": {},
     "output_type": "execute_result"
    }
   ],
   "source": [
    "lin.predict([[12]])"
   ]
  },
  {
   "cell_type": "code",
   "execution_count": 43,
   "metadata": {},
   "outputs": [
    {
     "name": "stdout",
     "output_type": "stream",
     "text": [
      "Enter your Expence value3\n"
     ]
    },
    {
     "data": {
      "text/plain": [
       "array([[6.88893177]])"
      ]
     },
     "execution_count": 43,
     "metadata": {},
     "output_type": "execute_result"
    }
   ],
   "source": [
    "import numpy as np\n",
    "tv=int(input('Enter your Expence value'))\n",
    "p=np.array([[tv]])\n",
    "lin.predict(p)"
   ]
  },
  {
   "cell_type": "code",
   "execution_count": 44,
   "metadata": {},
   "outputs": [
    {
     "data": {
      "text/plain": [
       "2.4319319864367595"
      ]
     },
     "execution_count": 44,
     "metadata": {},
     "output_type": "execute_result"
    }
   ],
   "source": [
    "from sklearn import metrics\n",
    "metrics.mean_absolute_error(ytest, ypred)"
   ]
  },
  {
   "cell_type": "code",
   "execution_count": 45,
   "metadata": {},
   "outputs": [],
   "source": [
    "#testing\n",
    "\n",
    "ypred=lin.predict(xtest)"
   ]
  },
  {
   "cell_type": "code",
   "execution_count": 46,
   "metadata": {},
   "outputs": [
    {
     "data": {
      "text/plain": [
       "array([[ 7.67637119,  7.        ],\n",
       "       [11.20988099, 10.6       ],\n",
       "       [18.57094443, 18.9       ],\n",
       "       [19.83184426, 20.2       ],\n",
       "       [16.83160039, 16.6       ],\n",
       "       [19.13909692, 18.9       ],\n",
       "       [10.48224709, 12.6       ],\n",
       "       [10.073576  ,  9.7       ],\n",
       "       [ 7.9853664 ,  7.2       ],\n",
       "       [13.30307438, 12.9       ],\n",
       "       [ 7.92556088,  9.2       ],\n",
       "       [13.6918103 , 10.3       ],\n",
       "       [18.70550686, 13.2       ],\n",
       "       [14.93775875, 14.5       ],\n",
       "       [ 7.70627395,  6.6       ],\n",
       "       [18.30680336, 13.4       ],\n",
       "       [ 9.60509939, 11.8       ],\n",
       "       [14.08054622, 14.6       ],\n",
       "       [13.47750717, 17.2       ],\n",
       "       [17.6290074 , 12.2       ],\n",
       "       [ 8.01526916,  9.5       ],\n",
       "       [20.52957539, 11.8       ],\n",
       "       [ 7.67138739,  6.7       ],\n",
       "       [13.6120696 , 19.2       ],\n",
       "       [ 7.32252183,  7.3       ],\n",
       "       [15.46604089, 14.9       ],\n",
       "       [ 8.63325959, 10.9       ],\n",
       "       [ 7.12815387,  6.6       ],\n",
       "       [19.84181185, 12.        ],\n",
       "       [17.62402361, 18.        ],\n",
       "       [ 7.59663048,  9.3       ],\n",
       "       [20.72892714, 16.1       ],\n",
       "       [18.86000447, 25.4       ],\n",
       "       [ 9.70975906,  9.7       ],\n",
       "       [16.95619524, 22.6       ],\n",
       "       [14.28986556, 18.5       ],\n",
       "       [11.85777418, 14.        ],\n",
       "       [20.7638137 , 24.4       ],\n",
       "       [10.17823567,  9.3       ],\n",
       "       [16.5873945 , 11.7       ]])"
      ]
     },
     "execution_count": 46,
     "metadata": {},
     "output_type": "execute_result"
    }
   ],
   "source": [
    "np.con((ypred, ytest.values), axis=1)"
   ]
  },
  {
   "cell_type": "code",
   "execution_count": 50,
   "metadata": {},
   "outputs": [
    {
     "data": {
      "text/plain": [
       "[<matplotlib.lines.Line2D at 0x1a1a5910b8>]"
      ]
     },
     "execution_count": 50,
     "metadata": {},
     "output_type": "execute_result"
    },
    {
     "data": {
      "image/png": "[encoded data removed]",
      "text/plain": [
       "<Figure size 432x288 with 1 Axes>"
      ]
     },
     "metadata": {
      "needs_background": "light"
     },
     "output_type": "display_data"
    }
   ],
   "source": [
    "import matplotlib.pyplot as plt\n",
    "m = lin.coef_\n",
    "c=lin.intercept_\n",
    "\n",
    "x=np.linspace(np.min(xtrain), np.max(xtrain))\n",
    "y=m*x +c\n",
    "y=lin.predict(x)\n",
    "\n",
    "plt.scatter (xtrain, ytrain)\n",
    "plt.plot(x, y, color='k')\n",
    "\n"
   ]
  },
  {
   "cell_type": "code",
   "execution_count": 52,
   "metadata": {},
   "outputs": [
    {
     "data": {
      "text/plain": [
       "(160, 1)"
      ]
     },
     "execution_count": 52,
     "metadata": {},
     "output_type": "execute_result"
    }
   ],
   "source": [
    "ytrain.shape"
   ]
  },
  {
   "cell_type": "code",
   "execution_count": 62,
   "metadata": {},
   "outputs": [
    {
     "data": {
      "text/plain": [
       "(160, 1)"
      ]
     },
     "execution_count": 62,
     "metadata": {},
     "output_type": "execute_result"
    }
   ],
   "source": [
    "xtrain.shape"
   ]
  },
  {
   "cell_type": "code",
   "execution_count": 63,
   "metadata": {},
   "outputs": [
    {
     "data": {
      "text/plain": [
       "(50, 1)"
      ]
     },
     "execution_count": 63,
     "metadata": {},
     "output_type": "execute_result"
    }
   ],
   "source": [
    "x.shape"
   ]
  },
  {
   "cell_type": "code",
   "execution_count": null,
   "metadata": {},
   "outputs": [],
   "source": []
  }
 ],
 "metadata": {
  "kernelspec": {
   "display_name": "Python 3",
   "language": "python",
   "name": "python3"
  },
  "language_info": {
   "codemirror_mode": {
    "name": "ipython",
    "version": 3
   },
   "file_extension": ".py",
   "mimetype": "text/x-python",
   "name": "python",
   "nbconvert_exporter": "python",
   "pygments_lexer": "ipython3",
   "version": "3.7.3"
  }
 },
 "nbformat": 4,
 "nbformat_minor": 2
}
